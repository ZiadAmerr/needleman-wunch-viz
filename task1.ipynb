{
 "cells": [
  {
   "cell_type": "code",
   "execution_count": 1,
   "metadata": {},
   "outputs": [],
   "source": [
    "import numpy as np"
   ]
  },
  {
   "cell_type": "code",
   "execution_count": 2,
   "metadata": {},
   "outputs": [],
   "source": [
    "def compute_M_at_idx(\n",
    "    M: np.ndarray,\n",
    "    Ix: np.ndarray,\n",
    "    Iy: np.ndarray,\n",
    "    i: int,\n",
    "    j: int,\n",
    "    v: str,\n",
    "    w: str,\n",
    "    scoring_matrix: dict,\n",
    "):\n",
    "    if i == 0 and j == 0:\n",
    "        M[i][j] = 0\n",
    "    elif i == 0 or j == 0:\n",
    "        M[i][j] = -np.inf\n",
    "    else:\n",
    "        try:\n",
    "            score = scoring_matrix[v[i - 1]][w[j - 1]]\n",
    "        except KeyError:\n",
    "            score = scoring_matrix[w[j - 1]][v[i - 1]]\n",
    "\n",
    "        M[i][j] = max(\n",
    "            M[i - 1][j - 1] + score, Ix[i - 1][j - 1] + score, Iy[i - 1][j - 1] + score\n",
    "        )\n",
    "\n",
    "\n",
    "def compute_Ix_at_idx(\n",
    "    M: np.ndarray,\n",
    "    Ix: np.ndarray,\n",
    "    i: int,\n",
    "    j: int,\n",
    "    gap_open_penalty: int,\n",
    "    gap_extend_penalty: int,\n",
    "):\n",
    "    if i == 0 and j == 0:\n",
    "        Ix[i][j] = gap_open_penalty\n",
    "    elif i == 0:\n",
    "        Ix[i][j] = -np.inf\n",
    "    else:\n",
    "        Ix[i][j] = max(\n",
    "            M[i - 1][j] + gap_open_penalty + gap_extend_penalty,\n",
    "            Ix[i - 1][j] + gap_extend_penalty,\n",
    "        )\n",
    "\n",
    "\n",
    "def compute_Iy_at_idx(\n",
    "    M: np.ndarray,\n",
    "    Iy: np.ndarray,\n",
    "    i: int,\n",
    "    j: int,\n",
    "    gap_open_penalty: int,\n",
    "    gap_extend_penalty: int,\n",
    "):\n",
    "    if i == 0 and j == 0:\n",
    "        Iy[i][j] = gap_open_penalty\n",
    "    elif j == 0:\n",
    "        Iy[i][j] = -np.inf\n",
    "    else:\n",
    "        Iy[i][j] = max(\n",
    "            M[i][j - 1] + gap_open_penalty + gap_extend_penalty,\n",
    "            Iy[i][j - 1] + gap_extend_penalty,\n",
    "        )\n",
    "\n",
    "\n",
    "def compute_matrices(\n",
    "    v: str,\n",
    "    w: str,\n",
    "    scoring_matrix: dict,\n",
    "    gap_open_penalty: int,\n",
    "    gap_extend_penalty: int,\n",
    "):\n",
    "    n = len(v)\n",
    "    m = len(w)\n",
    "\n",
    "    M = np.zeros((n + 1, m + 1))\n",
    "    Ix = np.zeros((n + 1, m + 1))\n",
    "    Iy = np.zeros((n + 1, m + 1))\n",
    "\n",
    "    for i in range(n + 1):\n",
    "        for j in range(m + 1):\n",
    "            compute_M_at_idx(M, Ix, Iy, i, j, v, w, scoring_matrix)\n",
    "            compute_Ix_at_idx(M, Ix, i, j, gap_open_penalty, gap_extend_penalty)\n",
    "            compute_Iy_at_idx(M, Iy, i, j, gap_open_penalty, gap_extend_penalty)\n",
    "\n",
    "    return M, Ix, Iy"
   ]
  },
  {
   "cell_type": "code",
   "execution_count": 3,
   "metadata": {},
   "outputs": [],
   "source": [
    "v = \"ACACT\"\n",
    "w = \"AAT\"\n",
    "\n",
    "scoring_matrix = {\n",
    "    \"A\": {\"A\": 2, \"C\": -1, \"G\": 0, \"T\": -1},\n",
    "    \"C\": {\"C\": 2, \"G\": -1, \"T\": 0},\n",
    "    \"G\": {\"G\": 2, \"T\": -1},\n",
    "    \"T\": {\"T\": 2},\n",
    "}\n",
    "\n",
    "gap_open_penalty = -3\n",
    "gap_extend_penalty = -1\n",
    "\n",
    "M, Ix, Iy = compute_matrices(w, v, scoring_matrix, gap_open_penalty, gap_extend_penalty)"
   ]
  },
  {
   "cell_type": "code",
   "execution_count": 4,
   "metadata": {},
   "outputs": [
    {
     "data": {
      "text/plain": [
       "array([[  0., -inf, -inf, -inf, -inf, -inf],\n",
       "       [-inf,   2.,  -5.,  -3.,  -7.,  -8.],\n",
       "       [-inf,  -2.,   1.,   0.,  -4.,  -5.],\n",
       "       [-inf,  -6.,  -2.,   0.,   0.,  -2.]])"
      ]
     },
     "execution_count": 4,
     "metadata": {},
     "output_type": "execute_result"
    }
   ],
   "source": [
    "M"
   ]
  },
  {
   "cell_type": "code",
   "execution_count": 5,
   "metadata": {},
   "outputs": [
    {
     "data": {
      "text/plain": [
       "array([[ -3., -inf, -inf, -inf, -inf, -inf],\n",
       "       [ -4., -inf, -inf, -inf, -inf, -inf],\n",
       "       [ -5.,  -2.,  -9.,  -7., -11., -12.],\n",
       "       [ -6.,  -3.,  -3.,  -4.,  -8.,  -9.]])"
      ]
     },
     "execution_count": 5,
     "metadata": {},
     "output_type": "execute_result"
    }
   ],
   "source": [
    "Ix"
   ]
  },
  {
   "cell_type": "code",
   "execution_count": 6,
   "metadata": {},
   "outputs": [
    {
     "data": {
      "text/plain": [
       "array([[ -3.,  -4.,  -5.,  -6.,  -7.,  -8.],\n",
       "       [-inf, -inf,  -2.,  -3.,  -4.,  -5.],\n",
       "       [-inf, -inf,  -6.,  -3.,  -4.,  -5.],\n",
       "       [-inf, -inf, -10.,  -6.,  -4.,  -4.]])"
      ]
     },
     "execution_count": 6,
     "metadata": {},
     "output_type": "execute_result"
    }
   ],
   "source": [
    "Iy"
   ]
  }
 ],
 "metadata": {
  "kernelspec": {
   "display_name": "Python 3 (ipykernel)",
   "language": "python",
   "name": "python3"
  },
  "language_info": {
   "codemirror_mode": {
    "name": "ipython",
    "version": 3
   },
   "file_extension": ".py",
   "mimetype": "text/x-python",
   "name": "python",
   "nbconvert_exporter": "python",
   "pygments_lexer": "ipython3",
   "version": "3.9.6"
  }
 },
 "nbformat": 4,
 "nbformat_minor": 2
}
